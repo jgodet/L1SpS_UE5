{
  "nbformat": 4,
  "nbformat_minor": 0,
  "metadata": {
    "colab": {
      "name": "Exemples de cours.ipynb",
      "provenance": [],
      "authorship_tag": "ABX9TyNhG+1RvKurXlPrxPKm9tsf",
      "include_colab_link": true
    },
    "kernelspec": {
      "name": "python3",
      "display_name": "Python 3"
    }
  },
  "cells": [
    {
      "cell_type": "markdown",
      "metadata": {
        "id": "view-in-github",
        "colab_type": "text"
      },
      "source": [
        "<a href=\"https://colab.research.google.com/github/jgodet/L1SpS_UE5/blob/main/Exemples_de_cours.ipynb\" target=\"_parent\"><img src=\"https://colab.research.google.com/assets/colab-badge.svg\" alt=\"Open In Colab\"/></a>"
      ]
    },
    {
      "cell_type": "markdown",
      "metadata": {
        "id": "h1iek_FE5uXy"
      },
      "source": [
        "# Exemples de codes utilisés dans le cours **modélisation**"
      ]
    },
    {
      "cell_type": "markdown",
      "metadata": {
        "id": "8UN4bFF566fR"
      },
      "source": [
        "Voici les librairies dont on va avoir besoin dans les exemples"
      ]
    },
    {
      "cell_type": "code",
      "metadata": {
        "id": "nlSLgUOi65py"
      },
      "source": [
        "from numpy import *\n",
        "from scipy import integrate\n",
        "import pylab as p\n",
        "import matplotlib.pyplot as plt"
      ],
      "execution_count": 15,
      "outputs": []
    },
    {
      "cell_type": "markdown",
      "metadata": {
        "id": "yKdAVwdt573f"
      },
      "source": [
        "## Croissance ou décroissances exponentielles\n",
        "\n",
        "Cet exemple illustre les modèles du type \n",
        "$$X' = r.X$$\n",
        "\n",
        "Vous pouvez changer la valeur de r et la valeur de X0 pour voir ce qui se passe..."
      ]
    },
    {
      "cell_type": "code",
      "metadata": {
        "id": "31VXfn4U5rq0"
      },
      "source": [
        "def dX_dt(X, t=0):\n",
        "    \"\"\" Return the growth rate of bacteria. \"\"\"\n",
        "    return array([ r*X[0] ])"
      ],
      "execution_count": 5,
      "outputs": []
    },
    {
      "cell_type": "code",
      "metadata": {
        "colab": {
          "base_uri": "https://localhost:8080/",
          "height": 36
        },
        "id": "50sxKqlp54Zb",
        "outputId": "63be8f5e-2671-4163-b30b-9a840e2121ba"
      },
      "source": [
        "t = linspace(0, 100,  101)              # temps\n",
        "r = 0.05         # vitesse de croissance \n",
        "X0 = [10]        # 10 bactéries au départ\n",
        "X, infodict = integrate.odeint(dX_dt, X0, t, full_output=True)\n",
        "infodict['message']"
      ],
      "execution_count": 6,
      "outputs": [
        {
          "output_type": "execute_result",
          "data": {
            "application/vnd.google.colaboratory.intrinsic+json": {
              "type": "string"
            },
            "text/plain": [
              "'Integration successful.'"
            ]
          },
          "metadata": {
            "tags": []
          },
          "execution_count": 6
        }
      ]
    },
    {
      "cell_type": "code",
      "metadata": {
        "colab": {
          "base_uri": "https://localhost:8080/",
          "height": 312
        },
        "id": "vmeWlKng6Zx4",
        "outputId": "bbe3ef9e-06ab-4dcf-d419-e9fa16ae7efa"
      },
      "source": [
        "Virus = X.T\n",
        "p.plot(t, Virus[0], 'r-')\n",
        "p.grid()\n",
        "p.xlabel('temps')\n",
        "p.ylabel('population')\n",
        "p.title('Evolution du nombre de bactéries')"
      ],
      "execution_count": 7,
      "outputs": [
        {
          "output_type": "execute_result",
          "data": {
            "text/plain": [
              "Text(0.5, 1.0, 'Evolution du nombre de bactéries')"
            ]
          },
          "metadata": {
            "tags": []
          },
          "execution_count": 7
        },
        {
          "output_type": "display_data",
          "data": {
            "image/png": "[encoded data removed]",
            "text/plain": [
              "<Figure size 432x288 with 1 Axes>"
            ]
          },
          "metadata": {
            "tags": [],
            "needs_background": "light"
          }
        }
      ]
    },
    {
      "cell_type": "markdown",
      "metadata": {
        "id": "-kZRpeG_6ri4"
      },
      "source": [
        "## Modèle monocompartimental - bolus IV"
      ]
    },
    {
      "cell_type": "markdown",
      "metadata": {
        "id": "M7k5MtUq7J0_"
      },
      "source": [
        "Modèle du type \n",
        "$$X' = -k_e.X$$"
      ]
    },
    {
      "cell_type": "code",
      "metadata": {
        "id": "hPIVDo-a6zRb"
      },
      "source": [
        "def dX_dt(X, t=0):\n",
        "    return array([ - ke*X[0] ])"
      ],
      "execution_count": 8,
      "outputs": []
    },
    {
      "cell_type": "code",
      "metadata": {
        "colab": {
          "base_uri": "https://localhost:8080/",
          "height": 36
        },
        "id": "WxzsUxRG7Ra0",
        "outputId": "48457acc-18b0-458c-e69b-e3a5f38edc67"
      },
      "source": [
        "t = linspace(0, 100,  101)              # temps\n",
        "ke = 0.1         # constante d'élimination\n",
        "X0 = [100]        # C0\n",
        "X, infodict = integrate.odeint(dX_dt, X0, t, full_output=True)\n",
        "infodict['message'] "
      ],
      "execution_count": 9,
      "outputs": [
        {
          "output_type": "execute_result",
          "data": {
            "application/vnd.google.colaboratory.intrinsic+json": {
              "type": "string"
            },
            "text/plain": [
              "'Integration successful.'"
            ]
          },
          "metadata": {
            "tags": []
          },
          "execution_count": 9
        }
      ]
    },
    {
      "cell_type": "code",
      "metadata": {
        "colab": {
          "base_uri": "https://localhost:8080/",
          "height": 312
        },
        "id": "YYPkYt807Tq6",
        "outputId": "2327898f-c17b-4db4-a80d-402cd28602da"
      },
      "source": [
        "conc = X.T\n",
        "p.plot(t, conc[0], 'r-')\n",
        "p.grid()\n",
        "p.xlabel('temps')\n",
        "p.ylabel('Concentration')\n",
        "p.title('Evolution de la concentration sanguine')"
      ],
      "execution_count": 10,
      "outputs": [
        {
          "output_type": "execute_result",
          "data": {
            "text/plain": [
              "Text(0.5, 1.0, 'Evolution de la concentration sanguine')"
            ]
          },
          "metadata": {
            "tags": []
          },
          "execution_count": 10
        },
        {
          "output_type": "display_data",
          "data": {
            "image/png": "[encoded data removed]",
            "text/plain": [
              "<Figure size 432x288 with 1 Axes>"
            ]
          },
          "metadata": {
            "tags": [],
            "needs_background": "light"
          }
        }
      ]
    },
    {
      "cell_type": "markdown",
      "metadata": {
        "id": "7Q0uvIV_7W3q"
      },
      "source": [
        "## Modèle monocompartimental - perfusion IV\n",
        "\n",
        "$$X' = k_i - k_e .X$$"
      ]
    },
    {
      "cell_type": "code",
      "metadata": {
        "id": "hrFF8QxU7lZ6"
      },
      "source": [
        "def dX_dt(X, t=0):\n",
        "    return array([ ki - ke*X[0] ])"
      ],
      "execution_count": null,
      "outputs": []
    },
    {
      "cell_type": "code",
      "metadata": {
        "id": "ecHNaqca7vsL"
      },
      "source": [
        "t = linspace(0, 1000,  1001)              # temps\n",
        "ki = 0.05         # vitesse de perf \n",
        "ke = 0.01         # cst d'élimination\n",
        "X0 = [0]        # Concentration au temps 0\n",
        "X, infodict = integrate.odeint(dX_dt, X0, t, full_output=True)\n",
        "infodict['message'] "
      ],
      "execution_count": null,
      "outputs": []
    },
    {
      "cell_type": "code",
      "metadata": {
        "id": "YtJ0UZhu7wAX"
      },
      "source": [
        "conc = X.T\n",
        "p.plot(t, conc[0], 'r-')\n",
        "p.grid()\n",
        "p.xlabel('temps')\n",
        "p.ylabel('Concentration')\n",
        "p.title('Evolution de la concentration sanguine')"
      ],
      "execution_count": null,
      "outputs": []
    },
    {
      "cell_type": "markdown",
      "metadata": {
        "id": "orL-YLIC7vZ1"
      },
      "source": [
        "### Modification\n",
        "Si on modifie le modèle pour simuler une poche de perfusion qui finit pas se vider complètement"
      ]
    },
    {
      "cell_type": "code",
      "metadata": {
        "id": "urZhQRW179p8"
      },
      "source": [
        "def dX_dt(X, t=0):\n",
        "    if(t<500):\n",
        "      res = array([ ki - ke*X[0] ])\n",
        "    else:\n",
        "      res = array([ - ke*X[0] ])\n",
        "    return res \n",
        "\n",
        "t = linspace(0, 1000,  1001)              # temps\n",
        "ki = 0.05         # vitesse de perf \n",
        "ke = 0.01         # cst d'élimination\n",
        "X0 = [0]        # Concentration au temps 0\n",
        "X, infodict = integrate.odeint(dX_dt, X0, t, full_output=True)\n",
        "infodict['message'] \n",
        "\n",
        "conc = X.T\n",
        "p.plot(t, conc[0], 'r-')\n",
        "p.grid()\n",
        "p.xlabel('temps')\n",
        "p.ylabel('Concentration')\n",
        "p.title('Evolution de la concentration sanguine')"
      ],
      "execution_count": null,
      "outputs": []
    },
    {
      "cell_type": "markdown",
      "metadata": {
        "id": "G2_NZdK48GhR"
      },
      "source": [
        "## Modèle bicompartimental - voie orale\n",
        "\n",
        "$$\\frac{\\mathrm dA(t)}{\\mathrm dt} = - k_A.A(t)$$\n",
        "\n",
        "$$\\frac{\\mathrm dB(t)}{\\mathrm dt} = k_A.A(t) - k_E.B(t)$$"
      ]
    },
    {
      "cell_type": "code",
      "metadata": {
        "id": "EQBh0N9i8msN"
      },
      "source": [
        "def dX_dt(X, t=0):\n",
        "    \"\"\" Modele bicompartimental \"\"\"\n",
        "    return array([ - ka * X[0],\n",
        "                  ka * X[0] - ke * X[1] ])"
      ],
      "execution_count": 12,
      "outputs": []
    },
    {
      "cell_type": "code",
      "metadata": {
        "colab": {
          "base_uri": "https://localhost:8080/",
          "height": 36
        },
        "id": "CxQwI3bW8wqU",
        "outputId": "e3d1969d-b28a-4643-deb5-cda77ea32b5e"
      },
      "source": [
        "t = linspace(0, 50,  199)  # temps\n",
        "ka = .1\n",
        "ke = .4\n",
        "X0 = array([100, 0])       # conditions initiales\n",
        "X, infodict = integrate.odeint(dX_dt, X0, t, full_output=True)\n",
        "infodict['message']  "
      ],
      "execution_count": 13,
      "outputs": [
        {
          "output_type": "execute_result",
          "data": {
            "application/vnd.google.colaboratory.intrinsic+json": {
              "type": "string"
            },
            "text/plain": [
              "'Integration successful.'"
            ]
          },
          "metadata": {
            "tags": []
          },
          "execution_count": 13
        }
      ]
    },
    {
      "cell_type": "code",
      "metadata": {
        "colab": {
          "base_uri": "https://localhost:8080/",
          "height": 241
        },
        "id": "yCQDIISf829-",
        "outputId": "ae8b5f00-6593-4ef6-b6ab-cbbe0c13bf1a"
      },
      "source": [
        "concSang = X.T\n",
        "plt.figure(figsize=(10,3))\n",
        "plt.plot(t,concSang[1] ,'b.-')\n",
        "plt.grid(True)\n",
        "plt.xlabel('Temps')\n",
        "plt.ylabel('Concentration sanguine')\n",
        "plt.title(\"Voie orale - biodisponibilité\")\n",
        "plt.show()"
      ],
      "execution_count": 16,
      "outputs": [
        {
          "output_type": "display_data",
          "data": {
            "image/png": "[encoded data removed]",
            "text/plain": [
              "<Figure size 720x216 with 1 Axes>"
            ]
          },
          "metadata": {
            "tags": [],
            "needs_background": "light"
          }
        }
      ]
    },
    {
      "cell_type": "markdown",
      "metadata": {
        "id": "_dhUZ26y9ChW"
      },
      "source": [
        "## Modèle d'infection HIV - cellulaire\n",
        "\n",
        "Modèle issu du livre **Modeling life - The mathematics of Biological Systems** de Alan Garfinkel · Jane Shevtsov · Yina Guo\n",
        "\n",
        "\n",
        "$$V’ = 100.E - 2.V$$\n",
        "$$R’ =0.272 - 0.00136.R - 0.00027.R.V$$\n",
        "$$E’ = 0.00027.R.V - 0.33.E$$"
      ]
    },
    {
      "cell_type": "code",
      "metadata": {
        "id": "1d_Q6awi_HvP"
      },
      "source": [
        "def dX_dt(X, t=0):\n",
        "    \"\"\" HIV cellulaire \"\"\"\n",
        "    return array([100 * X[2] - 2 * X[0],\n",
        "                  0.272 - 0.00136 * X[1] - 0.00027 * X[1] * X[0],\n",
        "                  0.00027 * X[1] * X[0] - 0.33 * X[2]])"
      ],
      "execution_count": null,
      "outputs": []
    },
    {
      "cell_type": "code",
      "metadata": {
        "id": "SKlqII9J_Jr3"
      },
      "source": [
        "t = linspace(0, 200,  1001)              # temps\n",
        "X0 = [100, 5e3, 1]     #Virus, Cell non inf, cellules infectées   \n",
        "X, infodict = integrate.odeint(dX_dt, X0, t, full_output=True)\n",
        "infodict['message'] "
      ],
      "execution_count": null,
      "outputs": []
    },
    {
      "cell_type": "code",
      "metadata": {
        "id": "OF6DIDGc_L6i"
      },
      "source": [
        "Virus = X.T\n",
        "p.plot(t, Virus[0], 'r-')\n",
        "p.grid()\n",
        "p.xlabel('temps')\n",
        "p.ylabel('population')\n",
        "p.title('Evolution du nombre de virus')"
      ],
      "execution_count": null,
      "outputs": []
    },
    {
      "cell_type": "markdown",
      "metadata": {
        "id": "DAo4L4GW_Ozb"
      },
      "source": [
        "## Modèle d'infection HIV - épidémiologie\n",
        "\n",
        "Modèle issu du livre **Modeling life - The mathematics of Biological Systems** de Alan Garfinkel · Jane Shevtsov · Yina Guo\n",
        "\n",
        "$$S’ = b - (m + L).S\\\\\n",
        "I’ = L.S - (m+v).I\\\\\n",
        "A’ = v.I - (m+\\alpha).A$$\n"
      ]
    },
    {
      "cell_type": "code",
      "metadata": {
        "id": "_ZzCS3mB_8FC"
      },
      "source": [
        "def dX_dt(X, t=0):\n",
        "    \"\"\" HIV epidemio \"\"\"\n",
        "    L = c * beta * X[1] / (X[0] + X[1])\n",
        "    return array([ b - ( m + L ) * X[0],\n",
        "                  L * X[0] - ( m + v) * X[1],\n",
        "                  v * X[1] - (m + alpha) * X[2]])"
      ],
      "execution_count": null,
      "outputs": []
    },
    {
      "cell_type": "code",
      "metadata": {
        "id": "s2TkWJCUAGpA"
      },
      "source": [
        "b = 133.3\n",
        "m = 1/75.\n",
        "v = 0.125\n",
        "alpha = 1\n",
        "beta = 0.5 # changer beta ici\n",
        "c = 2\n",
        "t = linspace(0, 20,  101)              # temps\n",
        "X0 = [9995, 5,0]     #Nb de S, I, A à t=0   \n",
        "X, infodict = integrate.odeint(dX_dt, X0, t, full_output=True)\n",
        "infodict['message'] "
      ],
      "execution_count": null,
      "outputs": []
    },
    {
      "cell_type": "code",
      "metadata": {
        "id": "lOjiDkpUAHgX"
      },
      "source": [
        "HIV = X.T\n",
        "p.plot(t, HIV[0], 'r-'  )\n",
        "p.plot(t, HIV[1], 'b-'  )\n",
        "p.plot(t, HIV[2], 'g-'  )\n",
        "p.grid()\n",
        "p.legend(['S','I', 'R'])\n",
        "p.xlabel('temps')\n",
        "p.ylabel('population')\n",
        "p.yscale('log')\n",
        "p.title('Evolution du nombre de virus')"
      ],
      "execution_count": null,
      "outputs": []
    },
    {
      "cell_type": "markdown",
      "metadata": {
        "id": "gYQCQLcZAOoN"
      },
      "source": [
        "## Modèle logistique\n",
        "\n",
        "$$X’ = r.X. \\left( 1  - \\frac{X}{k}\\right)$$\n",
        "\n",
        "où $k$ représente la capacité limite de $X$"
      ]
    },
    {
      "cell_type": "code",
      "metadata": {
        "id": "nB1rouA9AlHw"
      },
      "source": [
        "def dX_dt(X, t=0):\n",
        "    \"\"\" logistic \"\"\"\n",
        "    return array([ r*X[0]/(1+X[0]/k)])"
      ],
      "execution_count": null,
      "outputs": []
    },
    {
      "cell_type": "code",
      "metadata": {
        "id": "3sTBpD8EAvRg"
      },
      "source": [
        "t = linspace(0, 10,  101)              # temps\n",
        "td = 0.3         # temps de doublement de 20 min (en heures)\n",
        "X0 = [.001]        # 10 bactéries au départ\n",
        "X, infodict = integrate.odeint(dX_dt, X0, t, full_output=True)\n",
        "infodict['message'] "
      ],
      "execution_count": null,
      "outputs": []
    },
    {
      "cell_type": "code",
      "metadata": {
        "id": "7vt8018VAwF8"
      },
      "source": [
        "Xg = X.T\n",
        "p.plot(t, Xg[0], 'r-')\n",
        "p.grid()\n",
        "p.xlabel('temps')\n",
        "p.ylabel('Réponse')"
      ],
      "execution_count": null,
      "outputs": []
    },
    {
      "cell_type": "markdown",
      "metadata": {
        "id": "0DAuS9k2BSmP"
      },
      "source": [
        "## Modèle oscillant - régulation GR\n",
        "\n",
        " $$GR’ = \\beta. EPO - c.GR\\\\\n",
        " EPO’ = \\alpha - \\gamma.GR$$"
      ]
    },
    {
      "cell_type": "code",
      "metadata": {
        "id": "aF6bsSkkAzrg"
      },
      "source": [
        "def dX_dt(X, t=0):\n",
        "    \"\"\" GR \"\"\"\n",
        "    return array([beta * X[1] - c* X[0],\n",
        "                  alpha - gamma * X[0] ])"
      ],
      "execution_count": null,
      "outputs": []
    },
    {
      "cell_type": "code",
      "metadata": {
        "id": "qvjTfKDIBlmG"
      },
      "source": [
        "t = linspace(0, 2000,  1001)              # temps\n",
        "alpha =1\n",
        "beta = 500\n",
        "c = np.log(2)/121\n",
        "gamma =1/5e6\n",
        "X0 = [5e6, 300]        \n",
        "X, infodict = integrate.odeint(dX_dt, X0, t, full_output=True)\n",
        "infodict['message'] "
      ],
      "execution_count": null,
      "outputs": []
    },
    {
      "cell_type": "code",
      "metadata": {
        "id": "F5QRlNP8BoIh"
      },
      "source": [
        "GR = X.T\n",
        "p.plot(t, GR[0], 'r-')\n",
        "p.grid()\n",
        "p.xlabel('temps')\n",
        "p.ylabel('population')\n",
        "p.title('Evolution du nombre de GR virtuels')"
      ],
      "execution_count": null,
      "outputs": []
    },
    {
      "cell_type": "markdown",
      "metadata": {
        "id": "BrrknZpHB-xa"
      },
      "source": [
        "## Modèle de Lotka-Volterra\n",
        "\n",
        "$$P’ = n.P - \\beta.P.R\\\\\n",
        "R’ = m.\\beta.P.R - d.R$$"
      ]
    },
    {
      "cell_type": "code",
      "metadata": {
        "id": "SEGxXUKwB-Cr"
      },
      "source": [
        "def dX_dt(X, t=0):\n",
        "    \"\"\" Return the growth rate of fish and shark populations. \"\"\"\n",
        "    return array([ n*X[0] -   beta*X[0]*X[1] ,\n",
        "                  -d*X[1] + m*beta*X[0]*X[1] ])"
      ],
      "execution_count": 17,
      "outputs": []
    },
    {
      "cell_type": "code",
      "metadata": {
        "colab": {
          "base_uri": "https://localhost:8080/",
          "height": 36
        },
        "id": "T2kFMr9IDGHB",
        "outputId": "9fe446fc-e0ea-4aec-aeaa-98e72da348fb"
      },
      "source": [
        "t = linspace(0, 20,  199)              # time\n",
        "n = 1.\n",
        "beta = 0.1\n",
        "d = 1.5\n",
        "m = 0.75\n",
        "X0 = array([20, 2])                     # initials conditions: 10 fish and 5 sharks\n",
        "X, infodict = integrate.odeint(dX_dt, X0, t, full_output=True)\n",
        "infodict['message'] "
      ],
      "execution_count": 18,
      "outputs": [
        {
          "output_type": "execute_result",
          "data": {
            "application/vnd.google.colaboratory.intrinsic+json": {
              "type": "string"
            },
            "text/plain": [
              "'Integration successful.'"
            ]
          },
          "metadata": {
            "tags": []
          },
          "execution_count": 18
        }
      ]
    },
    {
      "cell_type": "code",
      "metadata": {
        "colab": {
          "base_uri": "https://localhost:8080/",
          "height": 295
        },
        "id": "c3uogCPxEs_a",
        "outputId": "f4426930-4b5f-41c7-9a1b-bc880600204b"
      },
      "source": [
        "poissons, requins = X.T\n",
        "f1 = p.figure()\n",
        "p.plot(t, poissons, 'r-', label='Poissons')\n",
        "p.plot(t, requins  , 'b-', label='Requins')\n",
        "p.grid()\n",
        "#p.legend(loc='best')\n",
        "p.xlabel('time')\n",
        "p.ylabel('population')\n",
        "p.title('Evolution des populations de requins et de poissons')\n",
        "f1.savefig('sharkAndFish_1.png')"
      ],
      "execution_count": 19,
      "outputs": [
        {
          "output_type": "display_data",
          "data": {
            "image/png": "[encoded data removed]",
            "text/plain": [
              "<Figure size 432x288 with 1 Axes>"
            ]
          },
          "metadata": {
            "tags": [],
            "needs_background": "light"
          }
        }
      ]
    }
  ]
}